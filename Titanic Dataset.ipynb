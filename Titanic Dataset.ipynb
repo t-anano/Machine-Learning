{
 "cells": [
  {
   "cell_type": "markdown",
   "id": "ed837db6",
   "metadata": {},
   "source": [
    "Step 1) Ask a question: Classify whether or not an individual survives the Titanic ship catastrophe based on indivdual and ship characteristics. Will this indivdual survive the Titanic catastrophe?\n",
    " \n",
    "Step 2) Essentially we want to take passanger information and predict if this passanger will survive the Titanic. \n",
    "\n",
    "Step 3) This is a classification question as we are predicitng a label for survival, either they survived or they died. \n",
    "    In our DataFrames X is Features or sample data and y are our labels or targets\n"
   ]
  },
  {
   "cell_type": "code",
   "execution_count": 62,
   "id": "144bd12d",
   "metadata": {},
   "outputs": [],
   "source": [
    "import matplotlib.pyplot as plt\n",
    "import pandas as pd\n",
    "from sklearn import(\n",
    "    ensemble, \n",
    "    preprocessing, \n",
    "    tree, \n",
    ")\n",
    "from sklearn.metrics import (\n",
    "    auc, \n",
    "    confusion_matrix, \n",
    "    roc_auc_score, \n",
    "    roc_curve,\n",
    ")\n",
    "from sklearn.model_selection import (\n",
    "    train_test_split, \n",
    "    StratifiedKFold, \n",
    ")\n",
    "from yellowbrick.classifier import(\n",
    "        ConfusionMatrix,\n",
    "        ROCAUC,\n",
    ")\n",
    "from yellowbrick.model_selection import (\n",
    "    LearningCurve, \n",
    ") \n"
   ]
  },
  {
   "cell_type": "code",
   "execution_count": 3,
   "id": "9e01ca3c",
   "metadata": {},
   "outputs": [
    {
     "name": "stdout",
     "output_type": "stream",
     "text": [
      "(891, 12)\n"
     ]
    }
   ],
   "source": [
    "df = pd.read_csv(r\"C:\\Users\\alexn\\Documents\\MachineLearning\\titanic\\train.csv\")\n",
    "df.head()\n",
    "print(df.shape)"
   ]
  },
  {
   "cell_type": "code",
   "execution_count": 5,
   "id": "b0fea67b",
   "metadata": {},
   "outputs": [
    {
     "data": {
      "text/html": [
       "<div>\n",
       "<style scoped>\n",
       "    .dataframe tbody tr th:only-of-type {\n",
       "        vertical-align: middle;\n",
       "    }\n",
       "\n",
       "    .dataframe tbody tr th {\n",
       "        vertical-align: top;\n",
       "    }\n",
       "\n",
       "    .dataframe thead th {\n",
       "        text-align: right;\n",
       "    }\n",
       "</style>\n",
       "<table border=\"1\" class=\"dataframe\">\n",
       "  <thead>\n",
       "    <tr style=\"text-align: right;\">\n",
       "      <th></th>\n",
       "      <th>PassengerId</th>\n",
       "      <th>Survived</th>\n",
       "    </tr>\n",
       "  </thead>\n",
       "  <tbody>\n",
       "    <tr>\n",
       "      <th>count</th>\n",
       "      <td>891.000000</td>\n",
       "      <td>891.000000</td>\n",
       "    </tr>\n",
       "    <tr>\n",
       "      <th>mean</th>\n",
       "      <td>446.000000</td>\n",
       "      <td>0.383838</td>\n",
       "    </tr>\n",
       "    <tr>\n",
       "      <th>std</th>\n",
       "      <td>257.353842</td>\n",
       "      <td>0.486592</td>\n",
       "    </tr>\n",
       "    <tr>\n",
       "      <th>min</th>\n",
       "      <td>1.000000</td>\n",
       "      <td>0.000000</td>\n",
       "    </tr>\n",
       "    <tr>\n",
       "      <th>25%</th>\n",
       "      <td>223.500000</td>\n",
       "      <td>0.000000</td>\n",
       "    </tr>\n",
       "    <tr>\n",
       "      <th>50%</th>\n",
       "      <td>446.000000</td>\n",
       "      <td>0.000000</td>\n",
       "    </tr>\n",
       "    <tr>\n",
       "      <th>75%</th>\n",
       "      <td>668.500000</td>\n",
       "      <td>1.000000</td>\n",
       "    </tr>\n",
       "    <tr>\n",
       "      <th>max</th>\n",
       "      <td>891.000000</td>\n",
       "      <td>1.000000</td>\n",
       "    </tr>\n",
       "  </tbody>\n",
       "</table>\n",
       "</div>"
      ],
      "text/plain": [
       "       PassengerId    Survived\n",
       "count   891.000000  891.000000\n",
       "mean    446.000000    0.383838\n",
       "std     257.353842    0.486592\n",
       "min       1.000000    0.000000\n",
       "25%     223.500000    0.000000\n",
       "50%     446.000000    0.000000\n",
       "75%     668.500000    1.000000\n",
       "max     891.000000    1.000000"
      ]
     },
     "execution_count": 5,
     "metadata": {},
     "output_type": "execute_result"
    }
   ],
   "source": [
    "df.describe().iloc[:,:2]"
   ]
  },
  {
   "cell_type": "code",
   "execution_count": 6,
   "id": "f6b65b2a",
   "metadata": {},
   "outputs": [
    {
     "data": {
      "text/plain": [
       "PassengerId    0.000000\n",
       "Survived       0.000000\n",
       "Pclass         0.000000\n",
       "Name           0.000000\n",
       "Sex            0.000000\n",
       "Age            0.198653\n",
       "SibSp          0.000000\n",
       "Parch          0.000000\n",
       "Ticket         0.000000\n",
       "Fare           0.000000\n",
       "Cabin          0.771044\n",
       "Embarked       0.002245\n",
       "dtype: float64"
      ]
     },
     "execution_count": 6,
     "metadata": {},
     "output_type": "execute_result"
    }
   ],
   "source": [
    "df.isnull().mean() \n",
    "# We will impute or derive the data for missing values in the age column "
   ]
  },
  {
   "cell_type": "code",
   "execution_count": 7,
   "id": "071a96a8",
   "metadata": {
    "scrolled": true
   },
   "outputs": [
    {
     "data": {
      "text/plain": [
       "0     True\n",
       "1    False\n",
       "2     True\n",
       "3    False\n",
       "4     True\n",
       "dtype: bool"
      ]
     },
     "execution_count": 7,
     "metadata": {},
     "output_type": "execute_result"
    }
   ],
   "source": [
    "mask = df.isnull().any(axis=1)\n",
    "mask.head()"
   ]
  },
  {
   "cell_type": "code",
   "execution_count": 19,
   "id": "459e7436",
   "metadata": {},
   "outputs": [
    {
     "data": {
      "text/plain": [
       "Sex\n",
       "male      577\n",
       "female    314\n",
       "Name: count, dtype: int64"
      ]
     },
     "execution_count": 19,
     "metadata": {},
     "output_type": "execute_result"
    }
   ],
   "source": [
    "df.columns\n",
    "df.Sex.value_counts(dropna=False) # Warning: Pandas usually drops null values, if you want to include them add dropna=False"
   ]
  },
  {
   "cell_type": "code",
   "execution_count": 22,
   "id": "64fd281f",
   "metadata": {},
   "outputs": [
    {
     "data": {
      "text/plain": [
       "Embarked\n",
       "S      644\n",
       "C      168\n",
       "Q       77\n",
       "NaN      2\n",
       "Name: count, dtype: int64"
      ]
     },
     "execution_count": 22,
     "metadata": {},
     "output_type": "execute_result"
    }
   ],
   "source": [
    "df.columns\n",
    "df.Embarked.value_counts(dropna=False)"
   ]
  },
  {
   "cell_type": "markdown",
   "id": "3b42f1d7",
   "metadata": {},
   "source": [
    "Create Features: We drop columns that have no variance or signal. Irreleavant features like \"is human\" that had 1 for every sample would not be providing a lot of information "
   ]
  },
  {
   "cell_type": "code",
   "execution_count": 25,
   "id": "129bcc9b",
   "metadata": {},
   "outputs": [
    {
     "data": {
      "text/plain": [
       "0                              Braund, Mr. Owen Harris\n",
       "1    Cumings, Mrs. John Bradley (Florence Briggs Th...\n",
       "2                               Heikkinen, Miss. Laina\n",
       "Name: Name, dtype: object"
      ]
     },
     "execution_count": 25,
     "metadata": {},
     "output_type": "execute_result"
    }
   ],
   "source": [
    "# The pandas .drop method can drop either rows or columns \n",
    "\n",
    "name = df.Name\n",
    "name.head(3)\n"
   ]
  },
  {
   "cell_type": "code",
   "execution_count": 26,
   "id": "e08933ef",
   "metadata": {},
   "outputs": [
    {
     "data": {
      "text/plain": [
       "Index(['PassengerId', 'Survived', 'Pclass', 'Name', 'Sex', 'Age', 'SibSp',\n",
       "       'Parch', 'Ticket', 'Fare', 'Cabin', 'Embarked'],\n",
       "      dtype='object')"
      ]
     },
     "execution_count": 26,
     "metadata": {},
     "output_type": "execute_result"
    }
   ],
   "source": [
    "df.columns\n"
   ]
  },
  {
   "cell_type": "code",
   "execution_count": 33,
   "id": "9113dda2",
   "metadata": {},
   "outputs": [],
   "source": [
    "df = df.drop('Cabin', axis=1)"
   ]
  },
  {
   "cell_type": "code",
   "execution_count": 37,
   "id": "a261e00d",
   "metadata": {},
   "outputs": [],
   "source": [
    "# We need to create dummy columns from string columns. Pandas has a convenient get_dummies function "
   ]
  },
  {
   "cell_type": "code",
   "execution_count": 47,
   "id": "6f45b11e",
   "metadata": {},
   "outputs": [
    {
     "data": {
      "text/plain": [
       "Index(['Embarked_C', 'Embarked_Q', 'Embarked_S', 'Fare', 'Parch',\n",
       "       'PassengerId', 'Pclass', 'Sex_female', 'SibSp', 'Survived'],\n",
       "      dtype='object')"
      ]
     },
     "execution_count": 47,
     "metadata": {},
     "output_type": "execute_result"
    }
   ],
   "source": [
    "df = pd.get_dummies(df, drop_first=True)\n",
    "df.columns\n"
   ]
  },
  {
   "cell_type": "markdown",
   "id": "64eda720",
   "metadata": {},
   "source": [
    " Create a DataFrame with the features (X) and a series (y)"
   ]
  },
  {
   "cell_type": "code",
   "execution_count": 59,
   "id": "e623c8f0",
   "metadata": {},
   "outputs": [],
   "source": [
    "y = df.Survived # series \n",
    "X = df.drop(columns='Survived') # DataFrame "
   ]
  },
  {
   "cell_type": "code",
   "execution_count": 60,
   "id": "6aa46ef5",
   "metadata": {},
   "outputs": [
    {
     "name": "stderr",
     "output_type": "stream",
     "text": [
      "C:\\Users\\alexn\\anaconda3\\Lib\\site-packages\\janitor\\utils.py:365: DeprecationWarning: target_columns is deprecated; use target_column_names\n",
      "  warn(\n"
     ]
    }
   ],
   "source": [
    "# Alternatively, use pyjanitor\n",
    "import janitor as jn \n",
    "\n",
    "X, y = jn.ml.get_features_targets(df, target_columns='Survived')"
   ]
  },
  {
   "cell_type": "markdown",
   "id": "6e8baf91",
   "metadata": {},
   "source": [
    "Sample Data: We always want to train and test on different data. Otherwise we won't know how well the model generalizes to data is hasn't seen before. We will use scikit-learn to pull out 30% for testing"
   ]
  },
  {
   "cell_type": "code",
   "execution_count": 71,
   "id": "20c2d92a",
   "metadata": {},
   "outputs": [],
   "source": [
    "X_train, X_test, y_train, y_test = train_test_split(X, y, test_size=0.3, random_state=42)"
   ]
  },
  {
   "cell_type": "markdown",
   "id": "5c65cd94",
   "metadata": {},
   "source": [
    "Impute Data: The age column has missing values, we need to impute age from the numeric values. "
   ]
  },
  {
   "cell_type": "code",
   "execution_count": null,
   "id": "1c2c91c2",
   "metadata": {},
   "outputs": [],
   "source": []
  }
 ],
 "metadata": {
  "kernelspec": {
   "display_name": "Python 3 (ipykernel)",
   "language": "python",
   "name": "python3"
  },
  "language_info": {
   "codemirror_mode": {
    "name": "ipython",
    "version": 3
   },
   "file_extension": ".py",
   "mimetype": "text/x-python",
   "name": "python",
   "nbconvert_exporter": "python",
   "pygments_lexer": "ipython3",
   "version": "3.11.5"
  }
 },
 "nbformat": 4,
 "nbformat_minor": 5
}
